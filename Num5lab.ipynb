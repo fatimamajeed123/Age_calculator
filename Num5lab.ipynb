{
  "nbformat": 4,
  "nbformat_minor": 0,
  "metadata": {
    "colab": {
      "provenance": [],
      "authorship_tag": "ABX9TyPAQfurvY3CYJ8M3nHa18BG",
      "include_colab_link": true
    },
    "kernelspec": {
      "name": "python3",
      "display_name": "Python 3"
    },
    "language_info": {
      "name": "python"
    }
  },
  "cells": [
    {
      "cell_type": "markdown",
      "metadata": {
        "id": "view-in-github",
        "colab_type": "text"
      },
      "source": [
        "<a href=\"https://colab.research.google.com/github/fatimamajeed123/Age_calculator/blob/main/Num5lab.ipynb\" target=\"_parent\"><img src=\"https://colab.research.google.com/assets/colab-badge.svg\" alt=\"Open In Colab\"/></a>"
      ]
    },
    {
      "cell_type": "code",
      "execution_count": 1,
      "metadata": {
        "colab": {
          "base_uri": "https://localhost:8080/"
        },
        "id": "CGQlM_JnKPq0",
        "outputId": "92b47f5b-bcc1-43d6-888c-eca4a8030a9f"
      },
      "outputs": [
        {
          "output_type": "stream",
          "name": "stdout",
          "text": [
            "The approximate root value is:  1.7100\n"
          ]
        }
      ],
      "source": [
        "def func(x):\n",
        "  return x **3 -5\n",
        "\n",
        "def derivFunc(x):\n",
        "  return 3 * x **2\n",
        "\n",
        "def newtonraphson(x):\n",
        "  prev_x =0\n",
        "  while x != prev_x:\n",
        "    prev_x = x\n",
        "    x = x - (func(x)/derivFunc(x))\n",
        "  print(\"The approximate root value is: \",\"%.4f\"%x)\n",
        "\n",
        "initial_guess =2\n",
        "newtonraphson(initial_guess)\n"
      ]
    },
    {
      "cell_type": "code",
      "source": [
        "import math\n",
        "from  sympy import diff\n",
        "def func(x):\n",
        "  return (x*math.exp(x) - math.cos(x))\n",
        "\n",
        "def derivative(x):\n",
        "  return math.exp(x)*(1+x) + math.sin(x)\n",
        "\n",
        "def newtonRaphson(x):\n",
        "  prev_x=0\n",
        "  while x != prev_x:\n",
        "     prev_x=x\n",
        "     x= x-(func(x) / derivative(x))\n",
        "\n",
        "\n",
        "  print(\"The approximate root value is: \",\"%.4f\"%x)\n",
        "\n",
        "initial_guess = 1\n",
        "newtonRaphson(initial_guess)"
      ],
      "metadata": {
        "colab": {
          "base_uri": "https://localhost:8080/"
        },
        "id": "vGUYEJxbUffh",
        "outputId": "5ed5fa16-3d52-4f32-8508-d219c5d7dc9b"
      },
      "execution_count": 2,
      "outputs": [
        {
          "output_type": "stream",
          "name": "stdout",
          "text": [
            "The approximate root value is:  0.5178\n"
          ]
        }
      ]
    },
    {
      "cell_type": "code",
      "source": [
        "import math\n",
        "\n",
        "def func(x):\n",
        "  return x - 2 * math.sin(x) - 3\n",
        "\n",
        "def derivFunc(x):\n",
        "  return 1 - 2 * math.cos(x)\n",
        "\n",
        "\n",
        "def newtonraphson(x):\n",
        "  prev_x =0\n",
        "  while x != prev_x:\n",
        "    prev_x = x\n",
        "    x = x - (func(x)/derivFunc(x))\n",
        "  print(\"The approximate root value is: \",\"%.4f\"%x)\n",
        "\n",
        "initial_guess = 4\n",
        "newtonraphson(initial_guess)"
      ],
      "metadata": {
        "colab": {
          "base_uri": "https://localhost:8080/"
        },
        "id": "ReF8nOA8Ry2h",
        "outputId": "0b50b110-be65-41e4-a389-9de7034dc312"
      },
      "execution_count": 3,
      "outputs": [
        {
          "output_type": "stream",
          "name": "stdout",
          "text": [
            "The approximate root value is:  3.0944\n"
          ]
        }
      ]
    },
    {
      "cell_type": "code",
      "source": [
        "#fixed point iteration method coz derivative bhtt complex hojata h\n",
        "#g(x) derivative <1 then it means gx sahi bnaya\n",
        "#humein woh point talash krna h k woh konsa point h jisko x or g(x) mai put krny sy dono barabar ajae\n",
        "\n",
        "# x0 initial guess\n",
        "# x1 = g(x0)\n",
        "# x2 = g(x1)\n",
        "\n",
        "#open method example"
      ],
      "metadata": {
        "id": "PE2twK9BVpvZ"
      },
      "execution_count": 4,
      "outputs": []
    },
    {
      "cell_type": "code",
      "source": [
        "def f(x):\n",
        "  return x-math.cos(x)\n",
        "\n",
        "def g(x):\n",
        "  return  math.cos(x)\n",
        "\n",
        "def fixed_point_iteration(x0,max_iterations):\n",
        "  step =1\n",
        "  x1=g(x0)\n",
        "  while step <= max_iterations:\n",
        "    x0=x1\n",
        "    x1=g(x0)\n",
        "    step = step +1\n",
        "  return x1\n",
        "\n",
        "x0 =1\n",
        "max_iterations = 100\n",
        "print(fixed_point_iteration(x0,max_iterations))"
      ],
      "metadata": {
        "colab": {
          "base_uri": "https://localhost:8080/"
        },
        "id": "-T0up07kXdBA",
        "outputId": "6eea41f0-dbd9-4fbe-a5eb-236268152e0b"
      },
      "execution_count": 12,
      "outputs": [
        {
          "output_type": "stream",
          "name": "stdout",
          "text": [
            "0.7390851332151607\n"
          ]
        }
      ]
    },
    {
      "cell_type": "code",
      "source": [
        "def f(x):\n",
        "  return math.cos(x) - 3*x +1\n",
        "\n",
        "def g(x):\n",
        "  return  (math.cos(x) + 1 )/3\n",
        "\n",
        "def fixed_point_iteration(x0,max_iterations):\n",
        "  step =1\n",
        "  x1=g(x0)\n",
        "  while step <= max_iterations:\n",
        "    x0=x1\n",
        "    x1=g(x0)\n",
        "    step = step +1\n",
        "  return x1\n",
        "\n",
        "x0 =1\n",
        "max_iterations = 10\n",
        "print(fixed_point_iteration(x0,max_iterations))"
      ],
      "metadata": {
        "colab": {
          "base_uri": "https://localhost:8080/"
        },
        "id": "cHl5tOhHb1qw",
        "outputId": "511a7e7d-a623-46c4-ff70-5c435f4d4c83"
      },
      "execution_count": 11,
      "outputs": [
        {
          "output_type": "stream",
          "name": "stdout",
          "text": [
            "0.607101642655934\n"
          ]
        }
      ]
    },
    {
      "cell_type": "code",
      "source": [
        "def f(x):\n",
        "  return 2*(x**3) -7*(x**2) -6*x +1\n",
        "\n",
        "def g(x):\n",
        "  return  (2*(x**3) -7*(x**2) +1)/6\n",
        "\n",
        "def fixed_point_iteration(x0,max_iterations):\n",
        "  step =1\n",
        "  x1=g(x0)\n",
        "  while step <= max_iterations:\n",
        "    x0=x1\n",
        "    x1=g(x0)\n",
        "    step = step +1\n",
        "  return x1\n",
        "\n",
        "x0 =1\n",
        "max_iterations = 10\n",
        "print(fixed_point_iteration(x0,max_iterations))"
      ],
      "metadata": {
        "colab": {
          "base_uri": "https://localhost:8080/"
        },
        "id": "WGhvuaaQctzw",
        "outputId": "16b9f357-dd18-41ef-f71d-b9534006df82"
      },
      "execution_count": 14,
      "outputs": [
        {
          "output_type": "stream",
          "name": "stdout",
          "text": [
            "0.14359351216204522\n"
          ]
        }
      ]
    }
  ]
}